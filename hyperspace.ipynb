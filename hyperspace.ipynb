{
 "cells": [
  {
   "cell_type": "code",
   "execution_count": null,
   "id": "4293089f",
   "metadata": {},
   "outputs": [],
   "source": [
    "import numpy as np\n",
    "if not hasattr(np, \"bool8\"):\n",
    "    np.bool8 = np.bool_\n",
    "import torch\n",
    "import gym\n",
    "from skopt import gp_minimize\n",
    "from skopt.space import Real, Integer\n",
    "from skopt.utils import use_named_args\n",
    "\n",
    "from tqdm import tqdm"
   ]
  },
  {
   "cell_type": "code",
   "execution_count": 71,
   "id": "144ef3bd",
   "metadata": {},
   "outputs": [],
   "source": [
    "# Import your PPO implementation\n",
    "from PPO import RolloutBuffer, ppo_update, device  # citeturn3file0\n",
    "from Train_policy_func import Policy, Policy_v2  # citeturn2file3"
   ]
  },
  {
   "cell_type": "code",
   "execution_count": null,
   "id": "54eb96b8",
   "metadata": {},
   "outputs": [],
   "source": [
    "def evaluate_policy(policy, env, n_episodes=10, seed=2000): # different seed from training\n",
    "    returns = []\n",
    "    for i in range(n_episodes):\n",
    "        # state, done, ep_ret = env.reset(seed=seed+i), False, 0.0\n",
    "        obs = env.reset(seed=seed+i)            # reset now returns (obs, info)\n",
    "        state    = obs\n",
    "        done     = False\n",
    "        ep_ret   = 0.0\n",
    "\n",
    "        while not done:\n",
    "            a, _, _ = policy.act(state)\n",
    "            # state, r, done, _ = env.step(a)\n",
    "            # ep_ret += r\n",
    "            next_obs, reward, terminated, truncated, _ = env.step(a)  \n",
    "            done   = bool(terminated or truncated)  \n",
    "            state  = next_obs  \n",
    "            ep_ret += reward\n",
    "        returns.append(ep_ret)\n",
    "    return np.mean(returns), returns"
   ]
  },
  {
   "cell_type": "code",
   "execution_count": 73,
   "id": "11bf7cee",
   "metadata": {},
   "outputs": [
    {
     "data": {
      "text/plain": [
       "<torch._C.Generator at 0x224d63efc90>"
      ]
     },
     "execution_count": 73,
     "metadata": {},
     "output_type": "execute_result"
    }
   ],
   "source": [
    "# Fix seeds for reproducibility\n",
    "np.random.seed(42)\n",
    "torch.manual_seed(42)"
   ]
  },
  {
   "cell_type": "code",
   "execution_count": 74,
   "id": "86afcae0",
   "metadata": {
    "lines_to_next_cell": 1
   },
   "outputs": [],
   "source": [
    "# Create the environment\n",
    "ENV_ID = \"CartPole-v0\""
   ]
  },
  {
   "cell_type": "code",
   "execution_count": 75,
   "id": "22dc76c3",
   "metadata": {
    "lines_to_next_cell": 1
   },
   "outputs": [],
   "source": [
    "def make_env():\n",
    "    env = gym.make(ENV_ID)\n",
    "    return env"
   ]
  },
  {
   "cell_type": "code",
   "execution_count": 76,
   "id": "9cbe2a87",
   "metadata": {
    "lines_to_next_cell": 1
   },
   "outputs": [],
   "source": [
    "# Define the search space for PPO hyperparameters\n",
    "dim_space = [\n",
    "    Real(1e-5, 1e-2, \"log-uniform\", name=\"learning_rate\"),\n",
    "    Real(0.5, 0.999, name=\"gamma\"),\n",
    "    Real(0.8, 0.99, name=\"gae_lambda\"),\n",
    "    Real(0.1, 0.3, name=\"clip_eps\"),\n",
    "    Real (0.0, 1, name=\"value_coef\"),\n",
    "    Real(0.0, 0.05, name=\"entropy_coef\"),\n",
    "    Integer(1,16, name=\"actor_length\"),\n",
    "    Integer(64, 512, name=\"traj_length\"),\n",
    "    Integer(2, 10, name=\"epochs\"),\n",
    "    Integer(32, 256, name=\"batch_size\"),\n",
    "]"
   ]
  },
  {
   "cell_type": "code",
   "execution_count": null,
   "id": "36020e07",
   "metadata": {
    "lines_to_next_cell": 1
   },
   "outputs": [],
   "source": [
    "@use_named_args(dim_space)\n",
    "def objective(learning_rate, gamma, gae_lambda, clip_eps, value_coef, entropy_coef,\n",
    "              actor_length, traj_length, epochs, batch_size):\n",
    "    \"\"\"\n",
    "    Train a PPO agent with given hyperparameters and return negative mean reward.\n",
    "    \"\"\"\n",
    "\n",
    "    # Ensure integer hyperparameters are Python ints\n",
    "    traj_length = int(traj_length)\n",
    "    epochs = int(epochs)\n",
    "    batch_size = int(batch_size)\n",
    "\n",
    "    # New policy and optimizer per trial\n",
    "    policy = Policy_v2().to(device)\n",
    "    optimizer = torch.optim.Adam(policy.parameters(), lr=learning_rate)\n",
    "    buffer = RolloutBuffer()\n",
    "\n",
    "    env = make_env()\n",
    "    obs = env.reset(seed=42)[0]\n",
    "    # total_timesteps = 10000\n",
    "    updates = 200\n",
    "    steps = 0\n",
    "\n",
    "    # # Collect rollouts and update until budget exhausted\n",
    "    # while steps < total_timesteps:\n",
    "    #     for _ in range(n_steps):\n",
    "    #         action, logp, value = policy.act(obs)\n",
    "    #         next_obs, reward, terminated, truncated, _ = env.step(action)\n",
    "    #         done = bool(terminated or truncated)\n",
    "    #         buffer.store(obs, action, logp, reward, torch.tensor(value), done)\n",
    "    #         obs = next_obs\n",
    "    #         steps += 1\n",
    "    #         if done:\n",
    "    #             obs = env.reset()[0]\n",
    "\n",
    "    for update in tqdm(range(updates)):\n",
    "        buffer.clear() # clear the buffer for the next batch of trajectories\n",
    "        actor_rewards     = []\n",
    "\n",
    "        # 1) Collect trajectories\n",
    "        for N in range(actor_length):\n",
    "            state = env.reset(seed=N) # seed for reproducibility\n",
    "            steps = 0\n",
    "\n",
    "            # for tracking episode returns within this batch\n",
    "            current_ep_reward   = 0.0\n",
    "            reward_per_actor = []\n",
    "            \n",
    "            # 1.1 one trajectory per actor\n",
    "            while steps < traj_length:\n",
    "                action, logp, value = policy.act(state)\n",
    "                # next_state, reward, done, _ = env.step(action)\n",
    "                next_state, reward, terminated, truncated, _ = env.step(action)\n",
    "                done = bool(terminated or truncated)\n",
    "\n",
    "                buffer.store(state, action, logp, reward, value, done)\n",
    "                state = next_state\n",
    "                steps += 1\n",
    "\n",
    "                # accumulate for this episode\n",
    "                current_ep_reward += reward\n",
    "\n",
    "                if done:\n",
    "                    actor_rewards.append(current_ep_reward)\n",
    "                    current_ep_reward = 0.0\n",
    "                    state = env.reset(seed=2*N + steps) # reset for the next episode\n",
    "                    # break\n",
    "\n",
    "            # in case the last episode didn’t terminate exactly on traj_length\n",
    "            if current_ep_reward > 0.0:\n",
    "                actor_rewards.append(current_ep_reward)\n",
    "\n",
    "        # Perform PPO update\n",
    "        ppo_update(\n",
    "            policy, optimizer, buffer,\n",
    "            gamma=gamma,\n",
    "            lam=gae_lambda,\n",
    "            c1=value_coef,\n",
    "            c2=entropy_coef,\n",
    "            clip_eps=clip_eps,\n",
    "            epochs=epochs,\n",
    "            batch_size=batch_size\n",
    "        )\n",
    "\n",
    "    # Evaluate performance\n",
    "    mean_reward, _ = evaluate_policy(policy, env, n_episodes=5)\n",
    "    # We minimize the negative of performance\n",
    "    return -mean_reward"
   ]
  },
  {
   "cell_type": "code",
   "execution_count": 78,
   "id": "86eb3bfa",
   "metadata": {},
   "outputs": [
    {
     "name": "stderr",
     "output_type": "stream",
     "text": [
      "c:\\Users\\turin\\.conda\\envs\\ppo-tune\\lib\\site-packages\\gym\\envs\\registration.py:555: UserWarning: \u001b[33mWARN: The environment CartPole-v0 is out of date. You should consider upgrading to version `v1`.\u001b[0m\n",
      "  logger.warn(\n",
      "100%|██████████| 200/200 [03:38<00:00,  1.09s/it]\n",
      "100%|██████████| 200/200 [01:24<00:00,  2.36it/s]\n",
      "100%|██████████| 200/200 [08:24<00:00,  2.52s/it]\n",
      "100%|██████████| 200/200 [00:25<00:00,  7.85it/s]\n",
      "100%|██████████| 200/200 [03:55<00:00,  1.18s/it]\n",
      "100%|██████████| 200/200 [08:10<00:00,  2.45s/it]\n",
      "100%|██████████| 200/200 [01:23<00:00,  2.41it/s]\n",
      "100%|██████████| 200/200 [11:24<00:00,  3.42s/it]\n",
      "100%|██████████| 200/200 [04:29<00:00,  1.35s/it]\n",
      "100%|██████████| 200/200 [03:37<00:00,  1.09s/it]\n"
     ]
    },
    {
     "name": "stdout",
     "output_type": "stream",
     "text": [
      "Best hyperparameters found:\n",
      "  learning_rate: 0.003363987115958797\n",
      "  gamma: 0.7244273125515132\n",
      "  gae_lambda: 0.8750785448403448\n",
      "  clip_eps: 0.2853317731587589\n",
      "  value_coef: 0.727271995856421\n",
      "  entropy_coef: 0.016327038440291774\n",
      "  actor_length: 10\n",
      "  traj_length: 297\n",
      "  epochs: 10\n",
      "  batch_size: 221\n"
     ]
    }
   ],
   "source": [
    "if __name__ == \"__main__\":\n",
    "    # Run Bayesian optimization\n",
    "    result = gp_minimize(\n",
    "        func=objective,\n",
    "        dimensions=dim_space,\n",
    "        n_calls=10, #to increase\n",
    "        random_state=42\n",
    "    )\n",
    "\n",
    "    # Best hyperparameters\n",
    "    best_params = {dim.name: val for dim, val in zip(dim_space, result.x)}\n",
    "    print(\"Best hyperparameters found:\")\n",
    "    for key, val in best_params.items():\n",
    "        print(f\"  {key}: {val}\")\n"
   ]
  },
  {
   "cell_type": "code",
   "execution_count": null,
   "id": "32bfb5be",
   "metadata": {},
   "outputs": [],
   "source": [
    "# # Optionally, retrain a final model on full budget\n",
    "# print(\"Retraining final model with best hyperparameters...\")\n",
    "\n",
    "# # Cast integer hyperparameters\n",
    "# actor_length = int(best_params['actor_length'])\n",
    "# epochs       = int(best_params['epochs'])\n",
    "# batch_size   = int(best_params['batch_size'])\n",
    "\n",
    "# # Re-initialize policy, optimizer and buffer\n",
    "# policy    = Policy_v2().to(device)\n",
    "# optimizer = torch.optim.Adam(policy.parameters(), lr=best_params['learning_rate'])\n",
    "# buffer    = RolloutBuffer()\n",
    "\n",
    "# # Create & seed the env\n",
    "# env = make_env()\n",
    "# state, _ = env.reset(seed=42)\n",
    "\n",
    "# steps = 0\n",
    "# total_timesteps = 2000   # e.g. increase for final training\n",
    "\n",
    "# while steps < total_timesteps:\n",
    "#     # collect one batch of rollouts\n",
    "#     for _ in range(actor_length):\n",
    "#         action, logp, value = policy.act(state)\n",
    "#         next_state, reward, terminated, truncated, _ = env.step(action)\n",
    "#         done = bool(terminated or truncated)\n",
    "\n",
    "#         buffer.store(state, action, logp, reward, torch.tensor(value), done)\n",
    "#         state = next_state\n",
    "#         steps += 1\n",
    "\n",
    "#         if done:\n",
    "#             state, _ = env.reset()\n",
    "\n",
    "#     # perform PPO update\n",
    "#     ppo_update(\n",
    "#         policy, optimizer, buffer,\n",
    "#         gamma=best_params['gamma'],\n",
    "#         lam=best_params['gae_lambda'],\n",
    "#         c1=best_params['value_coef'],\n",
    "#         c2=best_params['entropy_coef'],\n",
    "#         clip_eps=best_params['clip_eps'],\n",
    "#         epochs=epochs,\n",
    "#         batch_size=batch_size\n",
    "#     )\n",
    "\n",
    "# # Final evaluation\n",
    "# mean_reward, rewards = evaluate_policy(policy, env, n_episodes=10)\n",
    "# print(f\"Final mean reward: {mean_reward}\")\n"
   ]
  }
 ],
 "metadata": {
  "jupytext": {
   "cell_metadata_filter": "-all",
   "main_language": "python",
   "notebook_metadata_filter": "-all"
  },
  "kernelspec": {
   "display_name": "ppo-tune",
   "language": "python",
   "name": "python3"
  },
  "language_info": {
   "codemirror_mode": {
    "name": "ipython",
    "version": 3
   },
   "file_extension": ".py",
   "mimetype": "text/x-python",
   "name": "python",
   "nbconvert_exporter": "python",
   "pygments_lexer": "ipython3",
   "version": "3.10.17"
  }
 },
 "nbformat": 4,
 "nbformat_minor": 5
}
