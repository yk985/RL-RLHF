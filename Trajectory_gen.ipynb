{
 "cells": [
  {
   "cell_type": "markdown",
   "id": "ac59fd31",
   "metadata": {},
   "source": [
    "This file will be used to train the policies and use them to generate the trajectories. "
   ]
  },
  {
   "cell_type": "markdown",
   "id": "cdcb56d0",
   "metadata": {},
   "source": [
    "Let's start by creating the environment we will be using: Cartpool"
   ]
  },
  {
   "cell_type": "code",
   "execution_count": null,
   "id": "b69a25e6",
   "metadata": {},
   "outputs": [],
   "source": [
    "%load_ext autoreload\n",
    "%autoreload 2\n",
    "%aimport -numpy\n",
    "%aimport -torch\n",
    "%aimport -gym\n",
    "\n",
    "import gym\n",
    "import numpy as np\n",
    "from collections import deque\n",
    "import matplotlib.pyplot as plt\n",
    "plt.rcParams['figure.figsize'] = (16, 10)\n",
    "\n",
    "import torch\n",
    "import torch.nn as nn\n",
    "import torch.nn.functional as F\n",
    "import torch.optim as optim\n",
    "from torch.distributions import Categorical\n",
    "from torch.utils.data import TensorDataset, DataLoader\n",
    "from torch.optim import Adam\n",
    "torch.manual_seed(0)\n",
    "\n",
    "# for saving/loading\n",
    "import os\n",
    "\n",
    "import base64, io\n",
    "\n",
    "# For visualization\n",
    "from gym.wrappers.monitoring import video_recorder\n",
    "from IPython.display import HTML\n",
    "from IPython import display\n",
    "import glob\n",
    "\n"
   ]
  },
  {
   "cell_type": "code",
   "execution_count": 2,
   "id": "0e440757",
   "metadata": {},
   "outputs": [
    {
     "data": {
      "text/plain": [
       "device(type='cpu')"
      ]
     },
     "execution_count": 2,
     "metadata": {},
     "output_type": "execute_result"
    }
   ],
   "source": [
    "device = torch.device(\"cuda:0\" if torch.cuda.is_available() else \"cpu\")\n",
    "device"
   ]
  },
  {
   "cell_type": "code",
   "execution_count": 3,
   "id": "f795306d",
   "metadata": {},
   "outputs": [
    {
     "name": "stderr",
     "output_type": "stream",
     "text": [
      "C:\\Users\\turin\\AppData\\Roaming\\Python\\Python311\\site-packages\\gym\\envs\\registration.py:593: UserWarning: \u001b[33mWARN: The environment CartPole-v0 is out of date. You should consider upgrading to version `v1`.\u001b[0m\n",
      "  logger.warn(\n",
      "C:\\Users\\turin\\AppData\\Roaming\\Python\\Python311\\site-packages\\gym\\core.py:317: DeprecationWarning: \u001b[33mWARN: Initializing wrapper in old step API which returns one bool instead of two. It is recommended to set `new_step_api=True` to use new step API. This will be the default behaviour in future.\u001b[0m\n",
      "  deprecation(\n",
      "C:\\Users\\turin\\AppData\\Roaming\\Python\\Python311\\site-packages\\gym\\wrappers\\step_api_compatibility.py:39: DeprecationWarning: \u001b[33mWARN: Initializing environment in old step API which returns one bool instead of two. It is recommended to set `new_step_api=True` to use new step API. This will be the default behaviour in future.\u001b[0m\n",
      "  deprecation(\n",
      "C:\\Users\\turin\\AppData\\Roaming\\Python\\Python311\\site-packages\\gym\\core.py:256: DeprecationWarning: \u001b[33mWARN: Function `env.seed(seed)` is marked as deprecated and will be removed in the future. Please use `env.reset(seed=seed)` instead.\u001b[0m\n",
      "  deprecation(\n"
     ]
    },
    {
     "data": {
      "text/plain": [
       "[0]"
      ]
     },
     "execution_count": 3,
     "metadata": {},
     "output_type": "execute_result"
    }
   ],
   "source": [
    "env = gym.make('CartPole-v0')\n",
    "env.seed(0)"
   ]
  },
  {
   "cell_type": "markdown",
   "id": "52669c3d",
   "metadata": {},
   "source": [
    "For the definition of classes and functions for training the policies, refer to train_policy_func.py file "
   ]
  },
  {
   "cell_type": "code",
   "execution_count": 4,
   "id": "ce8ff75d",
   "metadata": {},
   "outputs": [
    {
     "name": "stdout",
     "output_type": "stream",
     "text": [
      "Episode length: 17, Total reward: 17.0\n"
     ]
    },
    {
     "name": "stderr",
     "output_type": "stream",
     "text": [
      "C:\\Users\\turin\\AppData\\Roaming\\Python\\Python311\\site-packages\\gym\\utils\\passive_env_checker.py:241: DeprecationWarning: `np.bool8` is a deprecated alias for `np.bool_`.  (Deprecated NumPy 1.24)\n",
      "  if not isinstance(terminated, (bool, np.bool8)):\n"
     ]
    }
   ],
   "source": [
    "# to test\n",
    "\n",
    "from Train_policy_func import Policy, device\n",
    "from Generate_traj_func import generate_trajectory\n",
    "\n",
    "policy = Policy(state_size=4, action_size=2).to(device)\n",
    "# optionally: policy.load_state_dict(torch.load(\"best_policy.pth\"))\n",
    "\n",
    "# Generate one trajectory: \n",
    "traj = generate_trajectory(policy, env)\n",
    "print(f\"Episode length: {len(traj)}, Total reward: {sum(s['reward'] for s in traj)}\")\n",
    "\n"
   ]
  },
  {
   "cell_type": "code",
   "execution_count": 5,
   "id": "d1f0333f",
   "metadata": {},
   "outputs": [
    {
     "name": "stderr",
     "output_type": "stream",
     "text": [
      "C:\\Users\\turin\\AppData\\Roaming\\Python\\Python311\\site-packages\\gym\\utils\\passive_env_checker.py:241: DeprecationWarning: `np.bool8` is a deprecated alias for `np.bool_`.  (Deprecated NumPy 1.24)\n",
      "  if not isinstance(terminated, (bool, np.bool8)):\n",
      "c:\\Users\\turin\\OneDrive\\EPFL\\Master\\MA2\\RL\\RLHF\\Git RLHF\\RL-RLHF\\PPO.py:28: UserWarning: To copy construct from a tensor, it is recommended to use sourceTensor.clone().detach() or sourceTensor.clone().detach().requires_grad_(True), rather than torch.tensor(sourceTensor).\n",
      "  v  = torch.tensor(v).float().to(device)\n"
     ]
    },
    {
     "name": "stdout",
     "output_type": "stream",
     "text": [
      "Update 10/100 completed.\n",
      "Update 20/100 completed.\n",
      "Update 30/100 completed.\n",
      "Update 40/100 completed.\n",
      "Update 50/100 completed.\n",
      "Update 60/100 completed.\n",
      "Update 70/100 completed.\n",
      "Update 80/100 completed.\n",
      "Update 90/100 completed.\n",
      "Update 100/100 completed.\n",
      "Saved final policy as pi1_final.pth\n"
     ]
    }
   ],
   "source": [
    "# Training loop\n",
    "\n",
    "from PPO import ppo_update, RolloutBuffer\n",
    "\n",
    "\n",
    "# Hyperparameters\n",
    "env_name     = \"CartPole-v0\"\n",
    "total_steps  = 1000     # per update\n",
    "updates      = 100        # how many times to run rollout+update\n",
    "clip_eps     = 0.2\n",
    "gamma, lam   = 0.99, 0.95\n",
    "lr           = 3e-4\n",
    "batch_size   = 64\n",
    "epochs       = 4\n",
    "\n",
    "# Instantiate\n",
    "env       = gym.make(env_name)\n",
    "policy    = Policy().to(device)\n",
    "optimizer = optim.Adam(policy.parameters(), lr=lr)\n",
    "buffer    = RolloutBuffer()\n",
    "\n",
    "for update in range(updates):\n",
    "    state = env.reset()\n",
    "    steps = 0\n",
    "\n",
    "    # 1) Roll out until we have total_steps\n",
    "    while steps < total_steps:\n",
    "        action, logp, value = policy.act(state)\n",
    "        next_state, reward, done, _ = env.step(action)\n",
    "        buffer.store(state, action, logp, reward, value, done)\n",
    "        state = next_state\n",
    "        steps += 1\n",
    "        if done:\n",
    "            state = env.reset()\n",
    "\n",
    "    # 2) Compute last value (for GAE)\n",
    "    _, last_value = policy(torch.from_numpy(state).float().unsqueeze(0).to(device))\n",
    "\n",
    "    # 3) PPO update\n",
    "    ppo_update(policy, optimizer, buffer, clip_eps, epochs, batch_size)\n",
    "\n",
    "    # 4) Saving checkpoint of the policy to get pi2\n",
    "    if (update + 1) % 10 == 0:\n",
    "        print(f\"Update {update+1}/{updates} completed.\")\n",
    "        torch.save(policy.state_dict(), f\"pi2_checkpoint_{update}.pth\")\n",
    "\n",
    "# 5) at the end, save pi1\n",
    "torch.save(policy.state_dict(), \"pi1_final.pth\")\n",
    "print(\"Saved final policy as pi1_final.pth\")\n",
    "\n",
    "\n",
    "\n"
   ]
  },
  {
   "cell_type": "code",
   "execution_count": 7,
   "id": "6dc5161d",
   "metadata": {},
   "outputs": [
    {
     "name": "stderr",
     "output_type": "stream",
     "text": [
      "C:\\Users\\turin\\AppData\\Local\\Temp\\ipykernel_98596\\723977449.py:5: FutureWarning: You are using `torch.load` with `weights_only=False` (the current default value), which uses the default pickle module implicitly. It is possible to construct malicious pickle data which will execute arbitrary code during unpickling (See https://github.com/pytorch/pytorch/blob/main/SECURITY.md#untrusted-models for more details). In a future release, the default value for `weights_only` will be flipped to `True`. This limits the functions that could be executed during unpickling. Arbitrary objects will no longer be allowed to be loaded via this mode unless they are explicitly allowlisted by the user via `torch.serialization.add_safe_globals`. We recommend you start setting `weights_only=True` for any use case where you don't have full control of the loaded file. Please open an issue on GitHub for any issues related to this experimental feature.\n",
      "  pi2.load_state_dict(torch.load(\"pi2_checkpoint_49.pth\"))\n",
      "C:\\Users\\turin\\AppData\\Local\\Temp\\ipykernel_98596\\723977449.py:9: FutureWarning: You are using `torch.load` with `weights_only=False` (the current default value), which uses the default pickle module implicitly. It is possible to construct malicious pickle data which will execute arbitrary code during unpickling (See https://github.com/pytorch/pytorch/blob/main/SECURITY.md#untrusted-models for more details). In a future release, the default value for `weights_only` will be flipped to `True`. This limits the functions that could be executed during unpickling. Arbitrary objects will no longer be allowed to be loaded via this mode unless they are explicitly allowlisted by the user via `torch.serialization.add_safe_globals`. We recommend you start setting `weights_only=True` for any use case where you don't have full control of the loaded file. Please open an issue on GitHub for any issues related to this experimental feature.\n",
      "  pi1.load_state_dict(torch.load(\"pi1_final.pth\"))\n"
     ]
    },
    {
     "name": "stdout",
     "output_type": "stream",
     "text": [
      "π₂ → length 23, total reward 23.0\n",
      "π₁ → length 14, total reward 14.0\n",
      "Collected 200 preference pairs.\n"
     ]
    }
   ],
   "source": [
    "# Load π₂ (weak) and π₁ (strong)\n",
    "from pairs_generator import sample_preference_pairs\n",
    "\n",
    "pi2 = Policy().to(device)\n",
    "pi2.load_state_dict(torch.load(\"pi2_checkpoint_49.pth\"))\n",
    "pi2.eval()\n",
    "\n",
    "pi1 = Policy().to(device)\n",
    "pi1.load_state_dict(torch.load(\"pi1_final.pth\"))\n",
    "pi1.eval()\n",
    "\n",
    "# Generate one trajectory each to inspect\n",
    "traj2 = generate_trajectory(pi2, env)\n",
    "traj1 = generate_trajectory(pi1, env)\n",
    "\n",
    "print(f\"π₂ → length {len(traj2)}, total reward {sum(s['reward'] for s in traj2):.1f}\")\n",
    "print(f\"π₁ → length {len(traj1)}, total reward {sum(s['reward'] for s in traj1):.1f}\")\n",
    "\n",
    "prefs = sample_preference_pairs(pi1, pi2, env, K=200) # Need to define K elsewhere as hyperparameter\n",
    "print(f\"Collected {len(prefs)} preference pairs.\")\n"
   ]
  }
 ],
 "metadata": {
  "kernelspec": {
   "display_name": "base",
   "language": "python",
   "name": "python3"
  },
  "language_info": {
   "codemirror_mode": {
    "name": "ipython",
    "version": 3
   },
   "file_extension": ".py",
   "mimetype": "text/x-python",
   "name": "python",
   "nbconvert_exporter": "python",
   "pygments_lexer": "ipython3",
   "version": "3.11.7"
  }
 },
 "nbformat": 4,
 "nbformat_minor": 5
}
