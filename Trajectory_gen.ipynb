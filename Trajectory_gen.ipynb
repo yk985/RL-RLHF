{
 "cells": [
  {
   "cell_type": "markdown",
   "id": "ac59fd31",
   "metadata": {},
   "source": [
    "This file will be used to train the policies and use them to generate the trajectories. "
   ]
  },
  {
   "cell_type": "markdown",
   "id": "cdcb56d0",
   "metadata": {},
   "source": [
    "Let's start by creating the environment we will be using: Cartpool"
   ]
  },
  {
   "cell_type": "code",
   "execution_count": null,
   "id": "b69a25e6",
   "metadata": {},
   "outputs": [],
   "source": [
    "import gym\n",
    "import numpy as np\n",
    "from collections import deque\n",
    "import matplotlib.pyplot as plt\n",
    "plt.rcParams['figure.figsize'] = (16, 10)\n",
    "\n",
    "import torch\n",
    "import torch.nn as nn\n",
    "import torch.nn.functional as F\n",
    "import torch.optim as optim\n",
    "from torch.distributions import Categorical\n",
    "from torch.utils.data import TensorDataset, DataLoader\n",
    "from torch.optim import Adam\n",
    "torch.manual_seed(0)\n",
    "\n",
    "# for saving/loading\n",
    "import os\n",
    "\n",
    "import base64, io\n",
    "\n",
    "# For visualization\n",
    "from gym.wrappers.monitoring import video_recorder\n",
    "from IPython.display import HTML\n",
    "from IPython import display\n",
    "import glob\n",
    "\n"
   ]
  },
  {
   "cell_type": "code",
   "execution_count": 2,
   "id": "0e440757",
   "metadata": {},
   "outputs": [
    {
     "data": {
      "text/plain": [
       "device(type='cpu')"
      ]
     },
     "execution_count": 2,
     "metadata": {},
     "output_type": "execute_result"
    }
   ],
   "source": [
    "device = torch.device(\"cuda:0\" if torch.cuda.is_available() else \"cpu\")\n",
    "device"
   ]
  },
  {
   "cell_type": "code",
   "execution_count": 3,
   "id": "f795306d",
   "metadata": {},
   "outputs": [
    {
     "name": "stderr",
     "output_type": "stream",
     "text": [
      "C:\\Users\\turin\\AppData\\Roaming\\Python\\Python311\\site-packages\\gym\\envs\\registration.py:593: UserWarning: \u001b[33mWARN: The environment CartPole-v0 is out of date. You should consider upgrading to version `v1`.\u001b[0m\n",
      "  logger.warn(\n",
      "C:\\Users\\turin\\AppData\\Roaming\\Python\\Python311\\site-packages\\gym\\core.py:317: DeprecationWarning: \u001b[33mWARN: Initializing wrapper in old step API which returns one bool instead of two. It is recommended to set `new_step_api=True` to use new step API. This will be the default behaviour in future.\u001b[0m\n",
      "  deprecation(\n",
      "C:\\Users\\turin\\AppData\\Roaming\\Python\\Python311\\site-packages\\gym\\wrappers\\step_api_compatibility.py:39: DeprecationWarning: \u001b[33mWARN: Initializing environment in old step API which returns one bool instead of two. It is recommended to set `new_step_api=True` to use new step API. This will be the default behaviour in future.\u001b[0m\n",
      "  deprecation(\n",
      "C:\\Users\\turin\\AppData\\Roaming\\Python\\Python311\\site-packages\\gym\\core.py:256: DeprecationWarning: \u001b[33mWARN: Function `env.seed(seed)` is marked as deprecated and will be removed in the future. Please use `env.reset(seed=seed)` instead.\u001b[0m\n",
      "  deprecation(\n"
     ]
    },
    {
     "data": {
      "text/plain": [
       "[0]"
      ]
     },
     "execution_count": 3,
     "metadata": {},
     "output_type": "execute_result"
    }
   ],
   "source": [
    "env = gym.make('CartPole-v0')\n",
    "env.seed(0)"
   ]
  },
  {
   "cell_type": "markdown",
   "id": "52669c3d",
   "metadata": {},
   "source": [
    "For the definition of classes and functions for training the policies, refer to train_policy_func.py file "
   ]
  },
  {
   "cell_type": "code",
   "execution_count": null,
   "id": "ce8ff75d",
   "metadata": {},
   "outputs": [
    {
     "name": "stdout",
     "output_type": "stream",
     "text": [
      "Episode length: 18, Total reward: 18.0\n"
     ]
    },
    {
     "name": "stderr",
     "output_type": "stream",
     "text": [
      "C:\\Users\\turin\\AppData\\Roaming\\Python\\Python311\\site-packages\\gym\\utils\\passive_env_checker.py:241: DeprecationWarning: `np.bool8` is a deprecated alias for `np.bool_`.  (Deprecated NumPy 1.24)\n",
      "  if not isinstance(terminated, (bool, np.bool8)):\n"
     ]
    }
   ],
   "source": [
    "from Train_policy_func import Policy, device\n",
    "from Generate_traj_func import generate_trajectory\n",
    "\n",
    "policy = Policy(state_size=4, action_size=2).to(device)\n",
    "# optionally: policy.load_state_dict(torch.load(\"best_policy.pth\"))\n",
    "\n",
    "# Generate one trajectory: \n",
    "traj = generate_trajectory(policy, env)\n",
    "print(f\"Episode length: {len(traj)}, Total reward: {sum(s['reward'] for s in traj)}\")\n",
    "\n"
   ]
  },
  {
   "cell_type": "code",
   "execution_count": null,
   "id": "d1f0333f",
   "metadata": {},
   "outputs": [],
   "source": [
    "from PPO import ppo_update, RolloutBuffer\n",
    "\n",
    "# Hyperparameters\n",
    "env_name     = \"CartPole-v0\"\n",
    "total_steps  = 10_000     # per update\n",
    "updates      = 100        # how many times to run rollout+update\n",
    "clip_eps     = 0.2\n",
    "gamma, lam   = 0.99, 0.95\n",
    "lr           = 3e-4\n",
    "batch_size   = 64\n",
    "epochs       = 4\n",
    "\n",
    "# Instantiate\n",
    "env       = gym.make(env_name)\n",
    "policy    = Policy().to(device)\n",
    "optimizer = optim.Adam(policy.parameters(), lr=lr)\n",
    "buffer    = RolloutBuffer()\n",
    "\n",
    "for update in range(updates):\n",
    "    state = env.reset()\n",
    "    steps = 0\n",
    "\n",
    "    # 1) Roll out until we have total_steps\n",
    "    while steps < total_steps:\n",
    "        action, logp, value = policy.act(state)\n",
    "        next_state, reward, done, _ = env.step(action)\n",
    "        buffer.store(state, action, logp, reward, value, done)\n",
    "        state = next_state\n",
    "        steps += 1\n",
    "        if done:\n",
    "            state = env.reset()\n",
    "\n",
    "    # 2) Compute last value (for GAE)\n",
    "    _, last_value = policy(torch.from_numpy(state).float().unsqueeze(0).to(device))\n",
    "\n",
    "    # 3) PPO update\n",
    "    ppo_update(policy, optimizer, buffer, clip_eps, epochs, batch_size)\n",
    "\n",
    "    # 4) (Optional) track progress\n",
    "    if (update + 1) % 10 == 0:\n",
    "        print(f\"Update {update+1}/{updates} completed.\")\n"
   ]
  }
 ],
 "metadata": {
  "kernelspec": {
   "display_name": "base",
   "language": "python",
   "name": "python3"
  },
  "language_info": {
   "codemirror_mode": {
    "name": "ipython",
    "version": 3
   },
   "file_extension": ".py",
   "mimetype": "text/x-python",
   "name": "python",
   "nbconvert_exporter": "python",
   "pygments_lexer": "ipython3",
   "version": "3.11.7"
  }
 },
 "nbformat": 4,
 "nbformat_minor": 5
}
