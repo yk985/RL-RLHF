{
 "cells": [
  {
   "cell_type": "code",
   "execution_count": 1,
   "id": "af8e3d94",
   "metadata": {},
   "outputs": [],
   "source": [
    "%load_ext autoreload\n",
    "%autoreload 2\n",
    "%aimport -numpy\n",
    "%aimport -torch\n",
    "%aimport -gym\n",
    "\n",
    "import gym\n",
    "import numpy as np\n",
    "from collections import deque\n",
    "import matplotlib.pyplot as plt\n",
    "plt.rcParams['figure.figsize'] = (16, 10)\n",
    "\n",
    "from tqdm import tqdm\n",
    "\n",
    "import torch\n",
    "import torch.nn as nn\n",
    "import torch.nn.functional as F\n",
    "import torch.optim as optim\n",
    "from torch.distributions import Categorical\n",
    "from torch.utils.data import TensorDataset, DataLoader\n",
    "from torch.optim import Adam\n",
    "torch.manual_seed(0)\n",
    "\n",
    "# for saving/loading\n",
    "import os\n",
    "\n",
    "import base64, io\n",
    "\n",
    "# For visualization\n",
    "from gym.wrappers.monitoring import video_recorder\n",
    "from IPython.display import HTML\n",
    "from IPython import display\n",
    "import glob"
   ]
  },
  {
   "cell_type": "code",
   "execution_count": 2,
   "id": "45e74b49",
   "metadata": {},
   "outputs": [
    {
     "name": "stderr",
     "output_type": "stream",
     "text": [
      "c:\\Users\\flako\\Desktop\\MA2\\RL\\Cloned_Project\\RL-RLHF\\Plot_Functions.py:27: DeprecationWarning: invalid escape sequence '\\p'\n",
      "  plt.plot(updates1, sub1, label=f\"$\\pi_1$ suboptimality \\n mean = {np.mean(sub1):.1f}\")\n"
     ]
    }
   ],
   "source": [
    "from Train_policy_func import Policy, Policy_v2, device\n",
    "from Generate_traj_func import generate_trajectory\n",
    "from Plot_Functions import plot_suboptimality, plot_trajectory_performance\n",
    "\n",
    "env_name='CartPole-v0'"
   ]
  },
  {
   "cell_type": "code",
   "execution_count": 3,
   "id": "6df795dd",
   "metadata": {},
   "outputs": [
    {
     "name": "stderr",
     "output_type": "stream",
     "text": [
      "c:\\Users\\flako\\anaconda3\\Lib\\site-packages\\gym\\envs\\registration.py:593: UserWarning: \u001b[33mWARN: The environment CartPole-v0 is out of date. You should consider upgrading to version `v1`.\u001b[0m\n",
      "  logger.warn(\n",
      "c:\\Users\\flako\\anaconda3\\Lib\\site-packages\\gym\\core.py:317: DeprecationWarning: \u001b[33mWARN: Initializing wrapper in old step API which returns one bool instead of two. It is recommended to set `new_step_api=True` to use new step API. This will be the default behaviour in future.\u001b[0m\n",
      "  deprecation(\n",
      "c:\\Users\\flako\\anaconda3\\Lib\\site-packages\\gym\\wrappers\\step_api_compatibility.py:39: DeprecationWarning: \u001b[33mWARN: Initializing environment in old step API which returns one bool instead of two. It is recommended to set `new_step_api=True` to use new step API. This will be the default behaviour in future.\u001b[0m\n",
      "  deprecation(\n"
     ]
    }
   ],
   "source": [
    "# Training loop for OPPO\n",
    "from OPPO import baseline_1, OPPO_update\n",
    "from Train_policy_func import Policy, device\n",
    "\n",
    "lr_oppo = 0.01\n",
    "\n",
    "# ── Re-instantiate a fresh policy & optimizer for OPPO ──\n",
    "env_oppo   = gym.make(env_name)\n",
    "policy_oppo = Policy(state_size=env_oppo.observation_space.shape[0],\n",
    "                     action_size=env_oppo.action_space.n).to(device)\n",
    "policy_oppo.load_state_dict(torch.load(\"pi_oppo_final.pth\"))\n",
    "opt_oppo    = torch.optim.Adam(policy_oppo.parameters(), lr=lr_oppo)\n",
    "\n",
    "# ── Hyperparams for OPPO ──\n",
    "n_episodes = 1200      # keep same “number of iterations” for fair comparison\n",
    "max_t      = 200  # cap on steps per episode\n",
    "print_every=100\n",
    "gamma=0.99\n",
    "# ── Run the OPPO training ──\n",
    "# scores_oppo = OPPO_update(\n",
    "#     policy       = policy_oppo,\n",
    "#     optimizer    = opt_oppo,\n",
    "#     env          = env_oppo,\n",
    "#     baseline     = baseline_1,\n",
    "#     n_episodes   = n_episodes,\n",
    "#     max_t        = max_t,\n",
    "#     gamma        = gamma,      # you can reuse your PPO γ\n",
    "#     print_every  = print_every,\n",
    "#     early_stop   = False\n",
    "# )\n",
    "\n",
    "# # ── Post-processing: smooth or average returns per “block” if you like\n",
    "# avg_scores_oppo = [\n",
    "#     np.mean(scores_oppo[i : i + print_every])\n",
    "#     for i in range(0, len(scores_oppo), print_every)\n",
    "# ]"
   ]
  },
  {
   "cell_type": "code",
   "execution_count": 4,
   "id": "6e15a306",
   "metadata": {},
   "outputs": [
    {
     "name": "stderr",
     "output_type": "stream",
     "text": [
      "c:\\Users\\flako\\anaconda3\\Lib\\site-packages\\gym\\envs\\registration.py:593: UserWarning: \u001b[33mWARN: The environment CartPole-v0 is out of date. You should consider upgrading to version `v1`.\u001b[0m\n",
      "  logger.warn(\n",
      "c:\\Users\\flako\\anaconda3\\Lib\\site-packages\\gym\\core.py:317: DeprecationWarning: \u001b[33mWARN: Initializing wrapper in old step API which returns one bool instead of two. It is recommended to set `new_step_api=True` to use new step API. This will be the default behaviour in future.\u001b[0m\n",
      "  deprecation(\n",
      "c:\\Users\\flako\\anaconda3\\Lib\\site-packages\\gym\\wrappers\\step_api_compatibility.py:39: DeprecationWarning: \u001b[33mWARN: Initializing environment in old step API which returns one bool instead of two. It is recommended to set `new_step_api=True` to use new step API. This will be the default behaviour in future.\u001b[0m\n",
      "  deprecation(\n",
      " 33%|███▎      | 100/300 [00:07<00:24,  8.23it/s]"
     ]
    },
    {
     "name": "stdout",
     "output_type": "stream",
     "text": [
      "Episode 100\tAverage Score: 98.25\n"
     ]
    },
    {
     "name": "stderr",
     "output_type": "stream",
     "text": [
      " 67%|██████▋   | 201/300 [00:19<00:13,  7.60it/s]"
     ]
    },
    {
     "name": "stdout",
     "output_type": "stream",
     "text": [
      "Episode 200\tAverage Score: 161.66\n"
     ]
    },
    {
     "name": "stderr",
     "output_type": "stream",
     "text": [
      "100%|██████████| 300/300 [00:30<00:00,  9.92it/s]"
     ]
    },
    {
     "name": "stdout",
     "output_type": "stream",
     "text": [
      "Episode 300\tAverage Score: 160.93\n"
     ]
    },
    {
     "name": "stderr",
     "output_type": "stream",
     "text": [
      "\n"
     ]
    }
   ],
   "source": [
    "lr_oppo = 0.01\n",
    "\n",
    "# ── Re-instantiate a fresh policy & optimizer for OPPO ──\n",
    "env_oppo2   = gym.make(env_name)\n",
    "policy_oppo2 = Policy(state_size=env_oppo.observation_space.shape[0],\n",
    "                     action_size=env_oppo.action_space.n).to(device)\n",
    "#policy_oppo2.load_state_dict(torch.load(\"pi_oppo2_final.pth\"))\n",
    "opt_oppo2    = torch.optim.Adam(policy_oppo2.parameters(), lr=lr_oppo)\n",
    "\n",
    "# ── Hyperparams for OPPO ──\n",
    "n_episodes = 300      # keep same “number of iterations” for fair comparison\n",
    "max_t      = 200  # cap on steps per episode\n",
    "print_every=100\n",
    "gamma=0.99\n",
    "# ── Run the OPPO training ──\n",
    "scores_oppo2 = OPPO_update(\n",
    "    policy       = policy_oppo2,\n",
    "    optimizer    = opt_oppo2,\n",
    "    env          = env_oppo2,\n",
    "    baseline     = baseline_1,\n",
    "    n_episodes   = n_episodes,\n",
    "    max_t        = max_t,\n",
    "    gamma        = gamma,      # you can reuse your PPO γ\n",
    "    print_every  = print_every,\n",
    "    early_stop   = True\n",
    ")\n",
    "\n",
    "#── Post-processing: smooth or average returns per “block” if you like\n",
    "avg_scores_oppo2 = [\n",
    "    np.mean(scores_oppo2[i : i + print_every])\n",
    "    for i in range(0, len(scores_oppo2), print_every)\n",
    "]"
   ]
  },
  {
   "cell_type": "code",
   "execution_count": 5,
   "id": "4e728740",
   "metadata": {},
   "outputs": [
    {
     "data": {
      "image/png": "[encoded data removed]",
      "text/plain": [
       "<Figure size 700x500 with 1 Axes>"
      ]
     },
     "metadata": {},
     "output_type": "display_data"
    }
   ],
   "source": [
    "from PPO import ppo_update, RolloutBuffer, evaluate_policy\n",
    "num_episodes = 100\n",
    "pi1_mean_reward, pi1_reward = evaluate_policy(policy_oppo, env_oppo, n_episodes=num_episodes)\n",
    "pi2_mean_reward, pi2_reward = evaluate_policy(policy_oppo2, env_oppo, n_episodes=num_episodes)\n",
    "\n",
    "plot_suboptimality(\n",
    "    pi1_reward,\n",
    "    pi2_reward,\n",
    "    200,\n",
    ")  # in cartpole, 200 is the maximum reward"
   ]
  },
  {
   "cell_type": "code",
   "execution_count": 6,
   "id": "06cd45c3",
   "metadata": {},
   "outputs": [
    {
     "name": "stdout",
     "output_type": "stream",
     "text": [
      "π₁ → length 200, total reward 200.0\n",
      "π₂ → length 107, total reward 107.0\n",
      "Collected 200 preference pairs.\n"
     ]
    }
   ],
   "source": [
    "from pairs_generator import sample_preference_pairs\n",
    "traj1 = generate_trajectory(policy_oppo, env_oppo, max_steps=1000)\n",
    "traj2 = generate_trajectory(policy_oppo2, env_oppo2, max_steps=1000)\n",
    "\n",
    "print(f\"π₁ → length {len(traj1)}, total reward {sum(s['reward'] for s in traj1):.1f}\")\n",
    "print(f\"π₂ → length {len(traj2)}, total reward {sum(s['reward'] for s in traj2):.1f}\")\n",
    "\n",
    "prefs = sample_preference_pairs(policy_oppo, policy_oppo2, env_oppo, K=200) # Need to define K elsewhere as hyperparameter\n",
    "print(f\"Collected {len(prefs)} preference pairs.\")"
   ]
  },
  {
   "cell_type": "code",
   "execution_count": 7,
   "id": "4b3fb32e",
   "metadata": {},
   "outputs": [
    {
     "name": "stderr",
     "output_type": "stream",
     "text": [
      "c:\\Users\\flako\\Desktop\\MA2\\RL\\Cloned_Project\\RL-RLHF\\pairs_generator.py:43: UserWarning: Creating a tensor from a list of numpy.ndarrays is extremely slow. Please consider converting the list to a single numpy.ndarray with numpy.array() before converting to a tensor. (Triggered internally at C:\\actions-runner\\_work\\pytorch\\pytorch\\pytorch\\torch\\csrc\\utils\\tensor_new.cpp:257.)\n",
      "  states = torch.tensor([step[\"state\"] for step in trajectory], dtype=torch.float32).to(device)\n"
     ]
    },
    {
     "name": "stdout",
     "output_type": "stream",
     "text": [
      "Epoch 0: DPO Loss = 41.6698\n",
      "Epoch 10: DPO Loss = 0.7128\n",
      "Epoch 20: DPO Loss = 0.7954\n",
      "Epoch 30: DPO Loss = 0.8270\n",
      "Epoch 40: DPO Loss = 0.7894\n",
      "Epoch 50: DPO Loss = 0.7101\n",
      "Epoch 60: DPO Loss = 0.6464\n",
      "Epoch 70: DPO Loss = 0.6247\n",
      "Epoch 80: DPO Loss = 0.6099\n",
      "Epoch 90: DPO Loss = 0.6060\n",
      "Epoch 100: DPO Loss = 0.6034\n",
      "Epoch 110: DPO Loss = 0.6006\n",
      "Epoch 120: DPO Loss = 0.5975\n",
      "Epoch 130: DPO Loss = 0.5945\n",
      "Epoch 140: DPO Loss = 0.5928\n",
      "Epoch 150: DPO Loss = 0.5916\n",
      "Epoch 160: DPO Loss = 0.5905\n",
      "Epoch 170: DPO Loss = 0.5894\n",
      "Epoch 180: DPO Loss = 0.5882\n",
      "Epoch 190: DPO Loss = 0.5869\n",
      "Epoch 200: DPO Loss = 0.5856\n",
      "Epoch 210: DPO Loss = 0.5842\n",
      "Epoch 220: DPO Loss = 0.5835\n",
      "Epoch 230: DPO Loss = 0.5831\n",
      "Epoch 240: DPO Loss = 0.5828\n",
      "Epoch 250: DPO Loss = 0.5825\n",
      "Epoch 260: DPO Loss = 0.5823\n",
      "Epoch 270: DPO Loss = 0.5820\n",
      "Epoch 280: DPO Loss = 0.5818\n",
      "Epoch 290: DPO Loss = 0.5815\n",
      "Epoch 300: DPO Loss = 0.5813\n",
      "Epoch 310: DPO Loss = 0.5811\n",
      "Epoch 320: DPO Loss = 0.5808\n",
      "Epoch 330: DPO Loss = 0.5806\n",
      "Epoch 340: DPO Loss = 0.5804\n",
      "Epoch 350: DPO Loss = 0.5802\n",
      "Epoch 360: DPO Loss = 0.5799\n",
      "Epoch 370: DPO Loss = 0.5797\n",
      "Epoch 380: DPO Loss = 0.5795\n",
      "Epoch 390: DPO Loss = 0.5793\n"
     ]
    }
   ],
   "source": [
    "from DPO import DPO_training\n",
    "lr_DPO=0.1\n",
    "\n",
    "policy_DPO=Policy(state_size=env_oppo.observation_space.shape[0],\n",
    "                     action_size=env_oppo.action_space.n).to(device)\n",
    "policy_ref=policy_oppo\n",
    "opt_DPO    = torch.optim.Adam(policy_DPO.parameters(), lr=lr_DPO)\n",
    "policy_DPO.load_state_dict(torch.load(\"pi_DPO_final.pth\"))\n",
    "beta=0.5\n",
    "\n",
    "DPO_training(policy_DPO,policy_ref,prefs,beta,opt_DPO,nb_epochs=400)\n",
    "\n",
    "\n"
   ]
  },
  {
   "cell_type": "code",
   "execution_count": 8,
   "id": "c52c2c8b",
   "metadata": {},
   "outputs": [
    {
     "ename": "ImportError",
     "evalue": "cannot import name 'plot_trajectory_performance' from 'Generate_traj_func' (c:\\Users\\flako\\Desktop\\MA2\\RL\\Cloned_Project\\RL-RLHF\\Generate_traj_func.py)",
     "output_type": "error",
     "traceback": [
      "\u001b[1;31m---------------------------------------------------------------------------\u001b[0m",
      "\u001b[1;31mImportError\u001b[0m                               Traceback (most recent call last)",
      "Cell \u001b[1;32mIn[8], line 1\u001b[0m\n\u001b[1;32m----> 1\u001b[0m \u001b[38;5;28;01mfrom\u001b[39;00m \u001b[38;5;21;01mGenerate_traj_func\u001b[39;00m \u001b[38;5;28;01mimport\u001b[39;00m generate_trajectory,plot_trajectory_performance, plot_suboptimality\n\u001b[0;32m      2\u001b[0m env_oppo\u001b[38;5;241m.\u001b[39mreset()\n\u001b[0;32m      3\u001b[0m traj_DPO\u001b[38;5;241m=\u001b[39mgenerate_trajectory(policy_DPO,env_oppo2,max_steps\u001b[38;5;241m=\u001b[39m\u001b[38;5;241m1000\u001b[39m)\n",
      "\u001b[1;31mImportError\u001b[0m: cannot import name 'plot_trajectory_performance' from 'Generate_traj_func' (c:\\Users\\flako\\Desktop\\MA2\\RL\\Cloned_Project\\RL-RLHF\\Generate_traj_func.py)"
     ]
    }
   ],
   "source": [
    "from Generate_traj_func import generate_trajectory,plot_trajectory_performance, plot_suboptimality\n",
    "env_oppo.reset()\n",
    "traj_DPO=generate_trajectory(policy_DPO,env_oppo2,max_steps=1000)\n",
    "print(f\"π₁ → length {len(traj_DPO)}, total reward {sum(s['reward'] for s in traj_DPO):.1f}\")\n",
    "plot_trajectory_performance(traj_DPO,traj_DPO)\n",
    "\n",
    "from PPO import ppo_update, RolloutBuffer, evaluate_policy\n",
    "num_episodes = 100\n",
    "pi1_mean_reward, pi1_reward = evaluate_policy(policy_DPO, env_oppo, n_episodes=num_episodes)\n",
    "pi2_mean_reward, pi2_reward = evaluate_policy(policy_ref, env_oppo, n_episodes=num_episodes)\n",
    "\n",
    "plot_suboptimality(\n",
    "    pi1_reward,\n",
    "    pi2_reward,\n",
    "    200,\n",
    ")  # in cartpole, 200 is the maximum reward"
   ]
  },
  {
   "cell_type": "code",
   "execution_count": null,
   "id": "9da7e7a0",
   "metadata": {},
   "outputs": [
    {
     "name": "stdout",
     "output_type": "stream",
     "text": [
      "Saved final policy as pi_oppo_final.pth\n",
      "Saved final policy as pi_oppo2_final.pth\n",
      "Saved final policy as pi_DPO_final.pth\n"
     ]
    }
   ],
   "source": [
    "torch.save(policy_oppo.state_dict(), \"pi_oppo_final.pth\")\n",
    "print(\"Saved final policy as pi_oppo_final.pth\")\n",
    "torch.save(policy_oppo2.state_dict(), \"pi_oppo2_final.pth\")\n",
    "print(\"Saved final policy as pi_oppo2_final.pth\")\n",
    "torch.save(policy_DPO.state_dict(), \"pi_DPO_final.pth\")\n",
    "print(\"Saved final policy as pi_DPO_final.pth\")"
   ]
  }
 ],
 "metadata": {
  "kernelspec": {
   "display_name": "base",
   "language": "python",
   "name": "python3"
  },
  "language_info": {
   "codemirror_mode": {
    "name": "ipython",
    "version": 3
   },
   "file_extension": ".py",
   "mimetype": "text/x-python",
   "name": "python",
   "nbconvert_exporter": "python",
   "pygments_lexer": "ipython3",
   "version": "3.11.3"
  }
 },
 "nbformat": 4,
 "nbformat_minor": 5
}
