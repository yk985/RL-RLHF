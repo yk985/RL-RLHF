{
 "cells": [
  {
   "cell_type": "code",
   "execution_count": 46,
   "id": "e248c2cc",
   "metadata": {},
   "outputs": [],
   "source": [
    "# pip install \"shimmy>=2.0\"\n",
    "from stable_baselines3 import SAC\n",
    "import gym\n",
    "\n",
    "from stable_baselines3.ppo import MlpPolicy\n",
    "from stable_baselines3.common.env_util import make_vec_env\n",
    "from stable_baselines3.common.evaluation import evaluate_policy"
   ]
  },
  {
   "cell_type": "code",
   "execution_count": 47,
   "id": "5dcd00e0",
   "metadata": {},
   "outputs": [],
   "source": [
    "env = make_vec_env(\"Pendulum-v1\", n_envs=1, seed=0)\n",
    "model = SAC(policy=\"MlpPolicy\", env=env,learning_rate=1e-3, verbose=0)\n",
    "\n",
    "reward_threshold_pi1 = -140\n",
    "reward_threshold_pi2 = -600\n",
    "seed = 0"
   ]
  },
  {
   "cell_type": "code",
   "execution_count": 48,
   "id": "6c22968c",
   "metadata": {},
   "outputs": [
    {
     "name": "stdout",
     "output_type": "stream",
     "text": [
      " at update 0: Mean reward: -1399.97 +/- 288.25\n",
      " at update 1: Mean reward: -1550.36 +/- 139.69\n",
      " at update 2: Mean reward: -1556.30 +/- 86.69\n",
      " at update 3: Mean reward: -1285.92 +/- 111.91\n",
      " at update 4: Mean reward: -1155.86 +/- 245.04\n",
      " at update 5: Mean reward: -1096.16 +/- 111.10\n",
      " at update 6: Mean reward: -923.56 +/- 285.94\n",
      " at update 7: Mean reward: -583.17 +/- 151.04\n",
      "Saving model pi2 at -583.17272196\n",
      " at update 8: Mean reward: -391.38 +/- 391.31\n",
      " at update 9: Mean reward: -722.54 +/- 524.22\n",
      " at update 10: Mean reward: -623.71 +/- 534.41\n",
      " at update 11: Mean reward: -436.14 +/- 421.12\n",
      " at update 12: Mean reward: -623.77 +/- 588.46\n",
      " at update 13: Mean reward: -527.20 +/- 540.19\n",
      "Saving model pi2 at -527.20078496\n",
      " at update 14: Mean reward: -313.43 +/- 323.27\n",
      " at update 15: Mean reward: -148.51 +/- 97.68\n",
      " at update 16: Mean reward: -117.73 +/- 80.07\n",
      "Saving model pi1 at -117.72737704000001\n"
     ]
    }
   ],
   "source": [
    "#Training and saving models along the way\n",
    "TIMESTEPS = 300\n",
    "for i in range(100):\n",
    "    model.learn(total_timesteps=TIMESTEPS,reset_num_timesteps=False)\n",
    "  \n",
    "    if i % 1 == 0:\n",
    "        mean_reward, std_reward = evaluate_policy(\n",
    "            model,\n",
    "            env,\n",
    "            n_eval_episodes=25,\n",
    "            deterministic=True,\n",
    "        )\n",
    "        print(f\" at update {i}: Mean reward: {mean_reward:.2f} +/- {std_reward:.2f}\")\n",
    "        if mean_reward > reward_threshold_pi2 and mean_reward < -450:\n",
    "            print(f\"Saving model pi2 at {mean_reward}\")\n",
    "            # model.save(f\"{models_dir}/pi2-{TIMESTEPS*i}\")\n",
    "            model.save(\"pi2_SAC_pendulem\") \n",
    "        elif mean_reward > reward_threshold_pi1:\n",
    "            print(f\"Saving model pi1 at {mean_reward}\")\n",
    "            # model.save(f\"{models_dir}/pi1-{TIMESTEPS*i}\")\n",
    "            model.save(\"pi1_SAC_pendulem\")   \n",
    "            break"
   ]
  },
  {
   "cell_type": "code",
   "execution_count": 49,
   "id": "3154872e",
   "metadata": {},
   "outputs": [
    {
     "name": "stdout",
     "output_type": "stream",
     "text": [
      " at update 16: Mean reward: -130.91 +/- 66.27\n"
     ]
    }
   ],
   "source": [
    "mean_reward, std_reward = evaluate_policy(\n",
    "    model,\n",
    "    env,\n",
    "    n_eval_episodes=25,\n",
    "    deterministic=True,\n",
    ")\n",
    "print(f\" at update {i}: Mean reward: {mean_reward:.2f} +/- {std_reward:.2f}\")"
   ]
  },
  {
   "cell_type": "code",
   "execution_count": 50,
   "id": "15894d63",
   "metadata": {},
   "outputs": [],
   "source": [
    "env.close()\n",
    "model = None "
   ]
  }
 ],
 "metadata": {
  "kernelspec": {
   "display_name": "base",
   "language": "python",
   "name": "python3"
  },
  "language_info": {
   "codemirror_mode": {
    "name": "ipython",
    "version": 3
   },
   "file_extension": ".py",
   "mimetype": "text/x-python",
   "name": "python",
   "nbconvert_exporter": "python",
   "pygments_lexer": "ipython3",
   "version": "3.11.7"
  }
 },
 "nbformat": 4,
 "nbformat_minor": 5
}
